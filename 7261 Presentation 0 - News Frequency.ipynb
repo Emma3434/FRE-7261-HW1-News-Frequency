{
  "nbformat": 4,
  "nbformat_minor": 0,
  "metadata": {
    "kernelspec": {
      "display_name": "Python 3",
      "language": "python",
      "name": "python3"
    },
    "language_info": {
      "codemirror_mode": {
        "name": "ipython",
        "version": 3
      },
      "file_extension": ".py",
      "mimetype": "text/x-python",
      "name": "python",
      "nbconvert_exporter": "python",
      "pygments_lexer": "ipython3",
      "version": "3.8.5"
    },
    "colab": {
      "name": "7261 Presentation 0 - News Frequency.ipynb",
      "provenance": [],
      "collapsed_sections": []
    }
  },
  "cells": [
    {
      "cell_type": "code",
      "metadata": {
        "id": "UAdAsYXYudKl"
      },
      "source": [
        "from GoogleNews import GoogleNews\n",
        "import pandas as pd\n",
        "from datetime import datetime, timedelta\n",
        "\n",
        "import matplotlib.pyplot as plt\n",
        "import matplotlib\n",
        "import numpy as np\n",
        "from numpy import *"
      ],
      "execution_count": 1,
      "outputs": []
    },
    {
      "cell_type": "code",
      "metadata": {
        "id": "V6AAo0y7udKr"
      },
      "source": [
        "# search critia\n",
        "search = 'AMZN'\n",
        "start = '01/01/2020'\n",
        "end = '01/01/2021'"
      ],
      "execution_count": 2,
      "outputs": []
    },
    {
      "cell_type": "code",
      "metadata": {
        "colab": {
          "base_uri": "https://localhost:8080/",
          "height": 1000
        },
        "id": "U7tGKPetudKs",
        "outputId": "fcca6d33-2343-49da-a08b-21367e60b63f"
      },
      "source": [
        "# search for news in period from start \n",
        "googlenews = GoogleNews(start=start,end=end)\n",
        "googlenews.search(search)\n",
        "# pull the first 50 pages of the search and put data into df\n",
        "for i in range(2,50):\n",
        "    googlenews.getpage(i)\n",
        "    result=googlenews.result()\n",
        "    df=pd.DataFrame(result)\n",
        "df"
      ],
      "execution_count": 3,
      "outputs": [
        {
          "output_type": "stream",
          "text": [
            "'NoneType' object is not iterable\n",
            "'NoneType' object is not iterable\n",
            "'NoneType' object is not iterable\n",
            "'NoneType' object is not iterable\n",
            "'NoneType' object is not iterable\n",
            "'NoneType' object is not iterable\n",
            "'NoneType' object is not iterable\n",
            "'NoneType' object is not iterable\n",
            "'NoneType' object is not iterable\n",
            "'NoneType' object is not iterable\n",
            "'NoneType' object is not iterable\n",
            "'NoneType' object is not iterable\n",
            "'NoneType' object is not iterable\n",
            "'NoneType' object is not iterable\n",
            "'NoneType' object is not iterable\n",
            "'NoneType' object is not iterable\n",
            "'NoneType' object is not iterable\n",
            "'NoneType' object is not iterable\n",
            "'NoneType' object is not iterable\n",
            "'NoneType' object is not iterable\n",
            "'NoneType' object is not iterable\n",
            "'NoneType' object is not iterable\n",
            "'NoneType' object is not iterable\n"
          ],
          "name": "stdout"
        },
        {
          "output_type": "execute_result",
          "data": {
            "text/html": [
              "<div>\n",
              "<style scoped>\n",
              "    .dataframe tbody tr th:only-of-type {\n",
              "        vertical-align: middle;\n",
              "    }\n",
              "\n",
              "    .dataframe tbody tr th {\n",
              "        vertical-align: top;\n",
              "    }\n",
              "\n",
              "    .dataframe thead th {\n",
              "        text-align: right;\n",
              "    }\n",
              "</style>\n",
              "<table border=\"1\" class=\"dataframe\">\n",
              "  <thead>\n",
              "    <tr style=\"text-align: right;\">\n",
              "      <th></th>\n",
              "      <th>title</th>\n",
              "      <th>media</th>\n",
              "      <th>date</th>\n",
              "      <th>datetime</th>\n",
              "      <th>desc</th>\n",
              "      <th>link</th>\n",
              "      <th>img</th>\n",
              "    </tr>\n",
              "  </thead>\n",
              "  <tbody>\n",
              "    <tr>\n",
              "      <th>0</th>\n",
              "      <td>Amazon.com Inc (AMZN) Q1 2020 Earnings Call Tr...</td>\n",
              "      <td>Motley Fool</td>\n",
              "      <td>Apr 30, 2020</td>\n",
              "      <td>2020-04-30</td>\n",
              "      <td>AMZN earnings call for the period ending March...</td>\n",
              "      <td>https://www.fool.com/earnings/call-transcripts...</td>\n",
              "      <td>data:image/gif;base64,R0lGODlhAQABAIAAAP//////...</td>\n",
              "    </tr>\n",
              "    <tr>\n",
              "      <th>1</th>\n",
              "      <td>'If you're a shareowner in Amazon, you may wan...</td>\n",
              "      <td>CNBC</td>\n",
              "      <td>on · Apr 30, 2020</td>\n",
              "      <td>2020-04-30</td>\n",
              "      <td>Amazon said it plans to spend all of its profi...</td>\n",
              "      <td>https://www.cnbc.com/2020/04/30/amazon-amzn-q1...</td>\n",
              "      <td>data:image/gif;base64,R0lGODlhAQABAIAAAP//////...</td>\n",
              "    </tr>\n",
              "    <tr>\n",
              "      <th>2</th>\n",
              "      <td>Amazon (AMZN) Stock Is a Winner, But How Much ...</td>\n",
              "      <td>Yahoo Finance</td>\n",
              "      <td>Apr 30, 2020</td>\n",
              "      <td>2020-04-30</td>\n",
              "      <td>While the major market indexes are all down ro...</td>\n",
              "      <td>https://finance.yahoo.com/news/amazon-amzn-sto...</td>\n",
              "      <td>data:image/gif;base64,R0lGODlhAQABAIAAAP//////...</td>\n",
              "    </tr>\n",
              "    <tr>\n",
              "      <th>3</th>\n",
              "      <td>Amazon (AMZN) Q2 2020 Earnings Call Transcript</td>\n",
              "      <td>Motley Fool</td>\n",
              "      <td>Jul 31, 2020</td>\n",
              "      <td>2020-07-31</td>\n",
              "      <td>Logo of jester cap with thought bubble. Image ...</td>\n",
              "      <td>https://www.fool.com/earnings/call-transcripts...</td>\n",
              "      <td>data:image/gif;base64,R0lGODlhAQABAIAAAP//////...</td>\n",
              "    </tr>\n",
              "    <tr>\n",
              "      <th>4</th>\n",
              "      <td>Amazon.com's (AMZN) Management on Q2 2020 Resu...</td>\n",
              "      <td>Seeking Alpha</td>\n",
              "      <td>Jul 30, 2020</td>\n",
              "      <td>2020-07-30</td>\n",
              "      <td>Amazon.com, Inc. (NASDAQ:AMZN) Q2 2020 Earning...</td>\n",
              "      <td>https://seekingalpha.com/article/4362687-amazo...</td>\n",
              "      <td>data:image/gif;base64,R0lGODlhAQABAIAAAP//////...</td>\n",
              "    </tr>\n",
              "    <tr>\n",
              "      <th>...</th>\n",
              "      <td>...</td>\n",
              "      <td>...</td>\n",
              "      <td>...</td>\n",
              "      <td>...</td>\n",
              "      <td>...</td>\n",
              "      <td>...</td>\n",
              "      <td>...</td>\n",
              "    </tr>\n",
              "    <tr>\n",
              "      <th>251</th>\n",
              "      <td>Scorpio Tankers Inc. (STNG) Soars 3% on Novemb...</td>\n",
              "      <td></td>\n",
              "      <td>Nov 24, 2020</td>\n",
              "      <td>2020-11-24</td>\n",
              "      <td>AMZN. loading... HD. loading... JPM. loading.....</td>\n",
              "      <td>https://www.equities.com/news/scorpio-tankers-...</td>\n",
              "      <td>data:image/gif;base64,R0lGODlhAQABAIAAAP//////...</td>\n",
              "    </tr>\n",
              "    <tr>\n",
              "      <th>252</th>\n",
              "      <td>Neos Therapeutics Inc. (NEOS) Settles Into New...</td>\n",
              "      <td></td>\n",
              "      <td>Sep 30, 2020</td>\n",
              "      <td>2020-09-30</td>\n",
              "      <td>AMZN. loading... HD. loading... JPM. loading.....</td>\n",
              "      <td>https://www.equities.com/news/neos-therapeutic...</td>\n",
              "      <td>data:image/gif;base64,R0lGODlhAQABAIAAAP//////...</td>\n",
              "    </tr>\n",
              "    <tr>\n",
              "      <th>253</th>\n",
              "      <td>Stick or twist? Investors face coronavirus-ind...</td>\n",
              "      <td>Reuters</td>\n",
              "      <td>May 28, 2020</td>\n",
              "      <td>2020-05-28</td>\n",
              "      <td>N and Amazon AMZN.O have soared. Savills SVS.L...</td>\n",
              "      <td>https://www.reuters.com/article/uk-health-coro...</td>\n",
              "      <td>data:image/gif;base64,R0lGODlhAQABAIAAAP//////...</td>\n",
              "    </tr>\n",
              "    <tr>\n",
              "      <th>254</th>\n",
              "      <td>Open Enrollment Looks a Little Different This ...</td>\n",
              "      <td>Investopedia</td>\n",
              "      <td>Nov 11, 2020</td>\n",
              "      <td>2020-11-11</td>\n",
              "      <td>Popular Stocks. Apple (AAPL) · Tesla (TSLA) · ...</td>\n",
              "      <td>https://www.investopedia.com/open-enrollment-l...</td>\n",
              "      <td>data:image/gif;base64,R0lGODlhAQABAIAAAP//////...</td>\n",
              "    </tr>\n",
              "    <tr>\n",
              "      <th>255</th>\n",
              "      <td>Best 10-Year CD Rates for February 2021</td>\n",
              "      <td>Investopedia</td>\n",
              "      <td>Feb 1, 2020</td>\n",
              "      <td>2020-02-01</td>\n",
              "      <td>Popular Stocks. Apple (AAPL) · Tesla (TSLA) · ...</td>\n",
              "      <td>https://www.investopedia.com/best-10-year-cd-r...</td>\n",
              "      <td>data:image/gif;base64,R0lGODlhAQABAIAAAP//////...</td>\n",
              "    </tr>\n",
              "  </tbody>\n",
              "</table>\n",
              "<p>256 rows × 7 columns</p>\n",
              "</div>"
            ],
            "text/plain": [
              "                                                 title  ...                                                img\n",
              "0    Amazon.com Inc (AMZN) Q1 2020 Earnings Call Tr...  ...  data:image/gif;base64,R0lGODlhAQABAIAAAP//////...\n",
              "1    'If you're a shareowner in Amazon, you may wan...  ...  data:image/gif;base64,R0lGODlhAQABAIAAAP//////...\n",
              "2    Amazon (AMZN) Stock Is a Winner, But How Much ...  ...  data:image/gif;base64,R0lGODlhAQABAIAAAP//////...\n",
              "3       Amazon (AMZN) Q2 2020 Earnings Call Transcript  ...  data:image/gif;base64,R0lGODlhAQABAIAAAP//////...\n",
              "4    Amazon.com's (AMZN) Management on Q2 2020 Resu...  ...  data:image/gif;base64,R0lGODlhAQABAIAAAP//////...\n",
              "..                                                 ...  ...                                                ...\n",
              "251  Scorpio Tankers Inc. (STNG) Soars 3% on Novemb...  ...  data:image/gif;base64,R0lGODlhAQABAIAAAP//////...\n",
              "252  Neos Therapeutics Inc. (NEOS) Settles Into New...  ...  data:image/gif;base64,R0lGODlhAQABAIAAAP//////...\n",
              "253  Stick or twist? Investors face coronavirus-ind...  ...  data:image/gif;base64,R0lGODlhAQABAIAAAP//////...\n",
              "254  Open Enrollment Looks a Little Different This ...  ...  data:image/gif;base64,R0lGODlhAQABAIAAAP//////...\n",
              "255            Best 10-Year CD Rates for February 2021  ...  data:image/gif;base64,R0lGODlhAQABAIAAAP//////...\n",
              "\n",
              "[256 rows x 7 columns]"
            ]
          },
          "metadata": {
            "tags": []
          },
          "execution_count": 3
        }
      ]
    },
    {
      "cell_type": "code",
      "metadata": {
        "colab": {
          "base_uri": "https://localhost:8080/"
        },
        "id": "K6oKAE9kudKu",
        "outputId": "53ed695c-c395-4b10-eebd-f2fbc6beb309"
      },
      "source": [
        "# calculate the datetime\n",
        "df['date'] = df['datetime'].dt.date\n",
        "count = df['date'].value_counts().to_frame() \n",
        "average = count.mean()\n",
        "average"
      ],
      "execution_count": 4,
      "outputs": [
        {
          "output_type": "execute_result",
          "data": {
            "text/plain": [
              "date    1.542169\n",
              "dtype: float64"
            ]
          },
          "metadata": {
            "tags": []
          },
          "execution_count": 4
        }
      ]
    },
    {
      "cell_type": "code",
      "metadata": {
        "colab": {
          "base_uri": "https://localhost:8080/",
          "height": 423
        },
        "id": "cNnOxHamudKu",
        "outputId": "c1626f91-e69e-4880-98ef-bccbe47b66a9"
      },
      "source": [
        "# organize count\r\n",
        "count.reset_index(inplace=True)\r\n",
        "count = count.sort_values('index')\r\n",
        "count.reset_index(inplace=True)\r\n",
        "count = count.drop(columns = ['level_0'])\r\n",
        "count = count.rename(columns={'index': \"Date\", \"date\": \"Frequency\"})\r\n",
        "count"
      ],
      "execution_count": 5,
      "outputs": [
        {
          "output_type": "execute_result",
          "data": {
            "text/html": [
              "<div>\n",
              "<style scoped>\n",
              "    .dataframe tbody tr th:only-of-type {\n",
              "        vertical-align: middle;\n",
              "    }\n",
              "\n",
              "    .dataframe tbody tr th {\n",
              "        vertical-align: top;\n",
              "    }\n",
              "\n",
              "    .dataframe thead th {\n",
              "        text-align: right;\n",
              "    }\n",
              "</style>\n",
              "<table border=\"1\" class=\"dataframe\">\n",
              "  <thead>\n",
              "    <tr style=\"text-align: right;\">\n",
              "      <th></th>\n",
              "      <th>Date</th>\n",
              "      <th>Frequency</th>\n",
              "    </tr>\n",
              "  </thead>\n",
              "  <tbody>\n",
              "    <tr>\n",
              "      <th>0</th>\n",
              "      <td>2020-01-06</td>\n",
              "      <td>4</td>\n",
              "    </tr>\n",
              "    <tr>\n",
              "      <th>1</th>\n",
              "      <td>2020-01-07</td>\n",
              "      <td>1</td>\n",
              "    </tr>\n",
              "    <tr>\n",
              "      <th>2</th>\n",
              "      <td>2020-01-13</td>\n",
              "      <td>1</td>\n",
              "    </tr>\n",
              "    <tr>\n",
              "      <th>3</th>\n",
              "      <td>2020-01-14</td>\n",
              "      <td>1</td>\n",
              "    </tr>\n",
              "    <tr>\n",
              "      <th>4</th>\n",
              "      <td>2020-01-17</td>\n",
              "      <td>1</td>\n",
              "    </tr>\n",
              "    <tr>\n",
              "      <th>...</th>\n",
              "      <td>...</td>\n",
              "      <td>...</td>\n",
              "    </tr>\n",
              "    <tr>\n",
              "      <th>161</th>\n",
              "      <td>2020-12-17</td>\n",
              "      <td>2</td>\n",
              "    </tr>\n",
              "    <tr>\n",
              "      <th>162</th>\n",
              "      <td>2020-12-20</td>\n",
              "      <td>1</td>\n",
              "    </tr>\n",
              "    <tr>\n",
              "      <th>163</th>\n",
              "      <td>2020-12-21</td>\n",
              "      <td>2</td>\n",
              "    </tr>\n",
              "    <tr>\n",
              "      <th>164</th>\n",
              "      <td>2020-12-22</td>\n",
              "      <td>1</td>\n",
              "    </tr>\n",
              "    <tr>\n",
              "      <th>165</th>\n",
              "      <td>2021-01-17</td>\n",
              "      <td>7</td>\n",
              "    </tr>\n",
              "  </tbody>\n",
              "</table>\n",
              "<p>166 rows × 2 columns</p>\n",
              "</div>"
            ],
            "text/plain": [
              "           Date  Frequency\n",
              "0    2020-01-06          4\n",
              "1    2020-01-07          1\n",
              "2    2020-01-13          1\n",
              "3    2020-01-14          1\n",
              "4    2020-01-17          1\n",
              "..          ...        ...\n",
              "161  2020-12-17          2\n",
              "162  2020-12-20          1\n",
              "163  2020-12-21          2\n",
              "164  2020-12-22          1\n",
              "165  2021-01-17          7\n",
              "\n",
              "[166 rows x 2 columns]"
            ]
          },
          "metadata": {
            "tags": []
          },
          "execution_count": 5
        }
      ]
    },
    {
      "cell_type": "code",
      "metadata": {
        "colab": {
          "base_uri": "https://localhost:8080/",
          "height": 460
        },
        "id": "qlLFXquoxGK-",
        "outputId": "18f8de45-3f82-4ef0-b180-0eecd28656c2"
      },
      "source": [
        "# scatter count\r\n",
        "count.plot(x = 'Date', y='Frequency',figsize = (10,7),kind='scatter')"
      ],
      "execution_count": 6,
      "outputs": [
        {
          "output_type": "execute_result",
          "data": {
            "text/plain": [
              "<matplotlib.axes._subplots.AxesSubplot at 0x7f549054a8d0>"
            ]
          },
          "metadata": {
            "tags": []
          },
          "execution_count": 6
        },
        {
          "output_type": "display_data",
          "data": {
            "image/png": "[encoded data removed]",
            "text/plain": [
              "<Figure size 720x504 with 1 Axes>"
            ]
          },
          "metadata": {
            "tags": [],
            "needs_background": "light"
          }
        }
      ]
    },
    {
      "cell_type": "code",
      "metadata": {
        "colab": {
          "base_uri": "https://localhost:8080/",
          "height": 460
        },
        "id": "DZ8kEm2fyOCb",
        "outputId": "9da75154-862f-4f86-8b0d-e3fc89c0d852"
      },
      "source": [
        "# line count\r\n",
        "count.plot(x = 'Date', y='Frequency',figsize = (10,7),kind='line')"
      ],
      "execution_count": 7,
      "outputs": [
        {
          "output_type": "execute_result",
          "data": {
            "text/plain": [
              "<matplotlib.axes._subplots.AxesSubplot at 0x7f54902aef60>"
            ]
          },
          "metadata": {
            "tags": []
          },
          "execution_count": 7
        },
        {
          "output_type": "display_data",
          "data": {
            "image/png": "[encoded data removed]",
            "text/plain": [
              "<Figure size 720x504 with 1 Axes>"
            ]
          },
          "metadata": {
            "tags": [],
            "needs_background": "light"
          }
        }
      ]
    },
    {
      "cell_type": "code",
      "metadata": {
        "colab": {
          "base_uri": "https://localhost:8080/",
          "height": 446
        },
        "id": "ABGfo8o0udKv",
        "outputId": "ab67aaf6-9dc4-41d2-f38c-b1dd7bb82dbd"
      },
      "source": [
        "# find abnomal\n",
        "count.boxplot(figsize = (10,7))"
      ],
      "execution_count": 8,
      "outputs": [
        {
          "output_type": "execute_result",
          "data": {
            "text/plain": [
              "<matplotlib.axes._subplots.AxesSubplot at 0x7f548fc9f320>"
            ]
          },
          "metadata": {
            "tags": []
          },
          "execution_count": 8
        },
        {
          "output_type": "display_data",
          "data": {
            "image/png": "[encoded data removed]",
            "text/plain": [
              "<Figure size 720x504 with 1 Axes>"
            ]
          },
          "metadata": {
            "tags": [],
            "needs_background": "light"
          }
        }
      ]
    },
    {
      "cell_type": "code",
      "metadata": {
        "colab": {
          "base_uri": "https://localhost:8080/"
        },
        "id": "NbXjVinqudKv",
        "outputId": "3a432957-361a-46b5-f4a2-10cb1cc47192"
      },
      "source": [
        "# find IQR\n",
        "Q1 = np.percentile(count['Frequency'],25)\n",
        "Q3 = np.percentile(count['Frequency'],75)\n",
        "IQR = Q3-Q1\n",
        "Q1,Q3"
      ],
      "execution_count": 9,
      "outputs": [
        {
          "output_type": "execute_result",
          "data": {
            "text/plain": [
              "(1.0, 2.0)"
            ]
          },
          "metadata": {
            "tags": []
          },
          "execution_count": 9
        }
      ]
    },
    {
      "cell_type": "code",
      "metadata": {
        "colab": {
          "base_uri": "https://localhost:8080/",
          "height": 473
        },
        "id": "9PHf_hKdudKx",
        "outputId": "9382e815-d51d-44bc-ae1d-c0b0ab6bc3de"
      },
      "source": [
        "# download stock data for amzn\n",
        "import yfinance as yf\n",
        "data = yf.download(search, start='2020-01-01', end='2021-01-17', interval = '1d')\n",
        "data = data[['Close']]\n",
        "data"
      ],
      "execution_count": 10,
      "outputs": [
        {
          "output_type": "stream",
          "text": [
            "\r[*********************100%***********************]  1 of 1 completed\n"
          ],
          "name": "stdout"
        },
        {
          "output_type": "execute_result",
          "data": {
            "text/html": [
              "<div>\n",
              "<style scoped>\n",
              "    .dataframe tbody tr th:only-of-type {\n",
              "        vertical-align: middle;\n",
              "    }\n",
              "\n",
              "    .dataframe tbody tr th {\n",
              "        vertical-align: top;\n",
              "    }\n",
              "\n",
              "    .dataframe thead th {\n",
              "        text-align: right;\n",
              "    }\n",
              "</style>\n",
              "<table border=\"1\" class=\"dataframe\">\n",
              "  <thead>\n",
              "    <tr style=\"text-align: right;\">\n",
              "      <th></th>\n",
              "      <th>Close</th>\n",
              "    </tr>\n",
              "    <tr>\n",
              "      <th>Date</th>\n",
              "      <th></th>\n",
              "    </tr>\n",
              "  </thead>\n",
              "  <tbody>\n",
              "    <tr>\n",
              "      <th>2020-01-02</th>\n",
              "      <td>1898.010010</td>\n",
              "    </tr>\n",
              "    <tr>\n",
              "      <th>2020-01-03</th>\n",
              "      <td>1874.969971</td>\n",
              "    </tr>\n",
              "    <tr>\n",
              "      <th>2020-01-06</th>\n",
              "      <td>1902.880005</td>\n",
              "    </tr>\n",
              "    <tr>\n",
              "      <th>2020-01-07</th>\n",
              "      <td>1906.859985</td>\n",
              "    </tr>\n",
              "    <tr>\n",
              "      <th>2020-01-08</th>\n",
              "      <td>1891.969971</td>\n",
              "    </tr>\n",
              "    <tr>\n",
              "      <th>...</th>\n",
              "      <td>...</td>\n",
              "    </tr>\n",
              "    <tr>\n",
              "      <th>2021-01-11</th>\n",
              "      <td>3114.209961</td>\n",
              "    </tr>\n",
              "    <tr>\n",
              "      <th>2021-01-12</th>\n",
              "      <td>3120.830078</td>\n",
              "    </tr>\n",
              "    <tr>\n",
              "      <th>2021-01-13</th>\n",
              "      <td>3165.889893</td>\n",
              "    </tr>\n",
              "    <tr>\n",
              "      <th>2021-01-14</th>\n",
              "      <td>3127.469971</td>\n",
              "    </tr>\n",
              "    <tr>\n",
              "      <th>2021-01-15</th>\n",
              "      <td>3104.250000</td>\n",
              "    </tr>\n",
              "  </tbody>\n",
              "</table>\n",
              "<p>263 rows × 1 columns</p>\n",
              "</div>"
            ],
            "text/plain": [
              "                  Close\n",
              "Date                   \n",
              "2020-01-02  1898.010010\n",
              "2020-01-03  1874.969971\n",
              "2020-01-06  1902.880005\n",
              "2020-01-07  1906.859985\n",
              "2020-01-08  1891.969971\n",
              "...                 ...\n",
              "2021-01-11  3114.209961\n",
              "2021-01-12  3120.830078\n",
              "2021-01-13  3165.889893\n",
              "2021-01-14  3127.469971\n",
              "2021-01-15  3104.250000\n",
              "\n",
              "[263 rows x 1 columns]"
            ]
          },
          "metadata": {
            "tags": []
          },
          "execution_count": 10
        }
      ]
    },
    {
      "cell_type": "code",
      "metadata": {
        "colab": {
          "base_uri": "https://localhost:8080/",
          "height": 455
        },
        "id": "oF5hIvrtudKx",
        "outputId": "df14ff85-8bac-48cd-b9e8-7a99589cb0ad"
      },
      "source": [
        "count = count.set_index('Date')\n",
        "count['Stock'] = data['Close']\n",
        "\n",
        "count['Stock_chg'] = np.log(count.Stock) - np.log(count.Stock.shift(1))\n",
        "count['Frequency_chg'] = np.log(count.Frequency) - np.log(count.Frequency.shift(1))\n",
        "count"
      ],
      "execution_count": 11,
      "outputs": [
        {
          "output_type": "execute_result",
          "data": {
            "text/html": [
              "<div>\n",
              "<style scoped>\n",
              "    .dataframe tbody tr th:only-of-type {\n",
              "        vertical-align: middle;\n",
              "    }\n",
              "\n",
              "    .dataframe tbody tr th {\n",
              "        vertical-align: top;\n",
              "    }\n",
              "\n",
              "    .dataframe thead th {\n",
              "        text-align: right;\n",
              "    }\n",
              "</style>\n",
              "<table border=\"1\" class=\"dataframe\">\n",
              "  <thead>\n",
              "    <tr style=\"text-align: right;\">\n",
              "      <th></th>\n",
              "      <th>Frequency</th>\n",
              "      <th>Stock</th>\n",
              "      <th>Stock_chg</th>\n",
              "      <th>Frequency_chg</th>\n",
              "    </tr>\n",
              "    <tr>\n",
              "      <th>Date</th>\n",
              "      <th></th>\n",
              "      <th></th>\n",
              "      <th></th>\n",
              "      <th></th>\n",
              "    </tr>\n",
              "  </thead>\n",
              "  <tbody>\n",
              "    <tr>\n",
              "      <th>2020-01-06</th>\n",
              "      <td>4</td>\n",
              "      <td>1902.880005</td>\n",
              "      <td>NaN</td>\n",
              "      <td>NaN</td>\n",
              "    </tr>\n",
              "    <tr>\n",
              "      <th>2020-01-07</th>\n",
              "      <td>1</td>\n",
              "      <td>1906.859985</td>\n",
              "      <td>0.002089</td>\n",
              "      <td>-1.386294</td>\n",
              "    </tr>\n",
              "    <tr>\n",
              "      <th>2020-01-13</th>\n",
              "      <td>1</td>\n",
              "      <td>1891.300049</td>\n",
              "      <td>-0.008193</td>\n",
              "      <td>0.000000</td>\n",
              "    </tr>\n",
              "    <tr>\n",
              "      <th>2020-01-14</th>\n",
              "      <td>1</td>\n",
              "      <td>1869.439941</td>\n",
              "      <td>-0.011626</td>\n",
              "      <td>0.000000</td>\n",
              "    </tr>\n",
              "    <tr>\n",
              "      <th>2020-01-17</th>\n",
              "      <td>1</td>\n",
              "      <td>1864.719971</td>\n",
              "      <td>-0.002528</td>\n",
              "      <td>0.000000</td>\n",
              "    </tr>\n",
              "    <tr>\n",
              "      <th>...</th>\n",
              "      <td>...</td>\n",
              "      <td>...</td>\n",
              "      <td>...</td>\n",
              "      <td>...</td>\n",
              "    </tr>\n",
              "    <tr>\n",
              "      <th>2020-12-17</th>\n",
              "      <td>2</td>\n",
              "      <td>3236.080078</td>\n",
              "      <td>0.022172</td>\n",
              "      <td>0.693147</td>\n",
              "    </tr>\n",
              "    <tr>\n",
              "      <th>2020-12-20</th>\n",
              "      <td>1</td>\n",
              "      <td>NaN</td>\n",
              "      <td>NaN</td>\n",
              "      <td>-0.693147</td>\n",
              "    </tr>\n",
              "    <tr>\n",
              "      <th>2020-12-21</th>\n",
              "      <td>2</td>\n",
              "      <td>3206.179932</td>\n",
              "      <td>NaN</td>\n",
              "      <td>0.693147</td>\n",
              "    </tr>\n",
              "    <tr>\n",
              "      <th>2020-12-22</th>\n",
              "      <td>1</td>\n",
              "      <td>3206.520020</td>\n",
              "      <td>0.000106</td>\n",
              "      <td>-0.693147</td>\n",
              "    </tr>\n",
              "    <tr>\n",
              "      <th>2021-01-17</th>\n",
              "      <td>7</td>\n",
              "      <td>NaN</td>\n",
              "      <td>NaN</td>\n",
              "      <td>1.945910</td>\n",
              "    </tr>\n",
              "  </tbody>\n",
              "</table>\n",
              "<p>166 rows × 4 columns</p>\n",
              "</div>"
            ],
            "text/plain": [
              "            Frequency        Stock  Stock_chg  Frequency_chg\n",
              "Date                                                        \n",
              "2020-01-06          4  1902.880005        NaN            NaN\n",
              "2020-01-07          1  1906.859985   0.002089      -1.386294\n",
              "2020-01-13          1  1891.300049  -0.008193       0.000000\n",
              "2020-01-14          1  1869.439941  -0.011626       0.000000\n",
              "2020-01-17          1  1864.719971  -0.002528       0.000000\n",
              "...               ...          ...        ...            ...\n",
              "2020-12-17          2  3236.080078   0.022172       0.693147\n",
              "2020-12-20          1          NaN        NaN      -0.693147\n",
              "2020-12-21          2  3206.179932        NaN       0.693147\n",
              "2020-12-22          1  3206.520020   0.000106      -0.693147\n",
              "2021-01-17          7          NaN        NaN       1.945910\n",
              "\n",
              "[166 rows x 4 columns]"
            ]
          },
          "metadata": {
            "tags": []
          },
          "execution_count": 11
        }
      ]
    },
    {
      "cell_type": "code",
      "metadata": {
        "colab": {
          "base_uri": "https://localhost:8080/",
          "height": 279
        },
        "id": "BSjRYTz4y2nU",
        "outputId": "7356b02a-923a-4c2a-eff9-738fc7ed2bf7"
      },
      "source": [
        "plt.figure()\r\n",
        "ax = count['Frequency'].plot()\r\n",
        "ax = count['Stock'].plot(secondary_y = True)"
      ],
      "execution_count": 12,
      "outputs": [
        {
          "output_type": "display_data",
          "data": {
            "image/png": "[encoded data removed]",
            "text/plain": [
              "<Figure size 432x288 with 2 Axes>"
            ]
          },
          "metadata": {
            "tags": [],
            "needs_background": "light"
          }
        }
      ]
    },
    {
      "cell_type": "code",
      "metadata": {
        "colab": {
          "base_uri": "https://localhost:8080/",
          "height": 279
        },
        "id": "5mJNr5WzzuFx",
        "outputId": "5f6700d1-2a09-4bd3-ad72-467cde466642"
      },
      "source": [
        "plt.figure()\r\n",
        "\r\n",
        "ax = count['Stock_chg'].plot()\r\n",
        "ax = count['Frequency_chg'].plot(secondary_y = True)"
      ],
      "execution_count": 13,
      "outputs": [
        {
          "output_type": "display_data",
          "data": {
            "image/png": "[encoded data removed]",
            "text/plain": [
              "<Figure size 432x288 with 2 Axes>"
            ]
          },
          "metadata": {
            "tags": [],
            "needs_background": "light"
          }
        }
      ]
    }
  ]
}